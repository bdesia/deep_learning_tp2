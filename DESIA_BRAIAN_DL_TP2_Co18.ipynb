{
  "cells": [
    {
      "cell_type": "markdown",
      "metadata": {
        "id": "tHbzg4F1fLo7"
      },
      "source": [
        "# Universidad de Buenos Aires\n",
        "# Aprendizaje Profundo - TP2\n",
        "# Cohorte 18 - 1er bimestre 2025\n"
      ]
    },
    {
      "cell_type": "markdown",
      "metadata": {
        "id": "PEib4WVwfQYr"
      },
      "source": [
        "Este segundo TP comienza desde el día después de la clase 5 (2 de abril) y la ventana de entrega estará abierta hasta las **23hs del miércoles 23 de abril (hora de Argentina)**. La resolución del TP es **individual**. Pueden utilizar los contenidos vistos en clase y otra bibliografía. Si se toman ideas de fuentes externas deben ser correctamente citadas incluyendo el correspondiente link o página de libro.\n",
        "\n",
        "El formato de entrega debe ser un link a un notebook de google colab (permitir acceso a gerardo.vilcamiza@ieee.org y gvilcamiza.ext@fi.uba.ar) y **se realizará en el siguiente link de google forms: [link](https://forms.gle/XatA691so4eVxZB68)**. Tanto los resultados, como el código y las explicaciones deben quedar guardados y visualizables en el colab.\n",
        "\n",
        "NO ES NECESARIO QUE NOS ENVIEN COREEO AVISANDO DE LA ENTREGA.\n",
        "\n",
        "**Consideraciones a tener en cuenta:**\n",
        "- Se entregará 1 solo colab para este TP2.\n",
        "- Renombrar el archivo de la siguiente manera: **APELLIDO-NOMBRE-DL-TP2-Co18.ipynb**\n",
        "- Los códigos deben poder ejecutarse.\n",
        "- Los resultados, cómo el código, los gráficos y las explicaciones deben quedar guardados y visualizables en el correspondiente notebook."
      ]
    },
    {
      "cell_type": "markdown",
      "metadata": {
        "id": "bdseNqG3m7xX"
      },
      "source": [
        "# **CLASIFICADOR DE EMOCIONES**"
      ]
    },
    {
      "cell_type": "markdown",
      "metadata": {
        "id": "u8jyqDP8bom6"
      },
      "source": [
        "El objetivo de este trabajo es construir una red neuronal convolucional (CNN) utilizando Pytorch, capaz de clasificar emociones humanas a partir de imágenes faciales. El clasificador deberá identificar una de las 7 emociones básicas: alegría, tristeza, enojo, miedo, sorpresa, disgusto y seriedad. El dataset se encuentra en este link: https://drive.google.com/file/d/10EWwOriegjawQ3evl1nuIldY3pUR-hQc/view?usp=sharing"
      ]
    },
    {
      "cell_type": "markdown",
      "metadata": {
        "id": "Y-ouGrVnbp7A"
      },
      "source": [
        "## 1. Preprocesamiento de Datos (2 puntos)\n",
        "\n",
        "Antes de entrenar el modelo, se debe analizar qué tipo de preprocesamiento se debe aplicar a las imágenes. Para esto, se puede considerar uno o más aspectos como:\n",
        "\n",
        "- Tamaño\n",
        "- Relación de aspecto\n",
        "- Color o escala de grises\n",
        "- Cambio de dimensionalidad\n",
        "- Normalización\n",
        "- Balanceo de datos\n",
        "- Data augmentation\n",
        "- etc.\n",
        "\n",
        "Sean criteriosos y elijan las técnicas que consideren pertinentes.\n",
        "\n",
        "Recomendación: usar `torchvision.transforms` para facilitar el preprocesamiento.\n",
        "\n"
      ]
    },
    {
      "cell_type": "markdown",
      "metadata": {
        "id": "Hk6B2VUvdufx"
      },
      "source": [
        "## 2. Construcción y entrenamiento del Modelo CNN (3.5 puntos)\n",
        "\n",
        "- Construir una red neuronal convolucional desde cero, sin usar modelos pre-entrenados.\n",
        "- Analizar correctamente qué funciones de activación se deben usar en cada etapa de la red, el learning rate a utilizar, la función de costo y el optimizador.\n",
        "- Cosas como el número de capas, neuronas, tamaño de kernel, entre otros, queda a criterio de ustedes."
      ]
    },
    {
      "cell_type": "markdown",
      "metadata": {
        "id": "K5D3EvVRd-Jq"
      },
      "source": [
        "## 3. Evaluación del Modelo (3.5 puntos)\n",
        "\n",
        "El modelo entrenado debe ser evaluado utilizando las siguientes métricas:\n",
        "\n",
        "- **Accuracy**:\n",
        "  - Reportar el valor final en el conjunto de test.\n",
        "  - Incluir una gráfica de evolución por época para entrenamiento y validación.\n",
        "\n",
        "- **F1 Score**:\n",
        "  - Reportar el valor final en el conjunto de test.\n",
        "  - Incluir una gráfica de evolución por época para entrenamiento y validación.\n",
        "\n",
        "- **Costo (Loss)**:\n",
        "  - Mostrar una gráfica de evolución del costo por época para entrenamiento y validación.\n",
        "\n",
        "- **Classification report**\n",
        "  - Mostrar la precisión, recall y F1 score por cada clase usando `classification_report`\n",
        "\n",
        "- **Matriz de confusión**:\n",
        "  - Mostrar la matriz de confusión absoluta (valores enteros).\n",
        "  - Mostrar la matriz de confusión normalizada (valores entre 0 y 1 por fila).\n",
        "\n",
        "Se recomienda utilizar `scikit-learn` para calcular métricas como accuracy, F1 score, el Classification report y las matrices de confusión. Las visualizaciones pueden realizarse con `matplotlib` o `seaborn`, separando claramente los datos de entrenamiento y validación en las gráficas.\n"
      ]
    },
    {
      "cell_type": "markdown",
      "metadata": {
        "id": "40tsslqLgFlk"
      },
      "source": [
        " ## 4. Prueba con Imágenes Nuevas (1 punto)\n",
        "Subir al menos 3 imágenes personales (con el rostro de ustedes o de otras personas), que no formen parte del dataset de entrenamiento ni de testeo.\n",
        "\n",
        "- Cada imagen debe representar una emoción distinta.\n",
        "\n",
        "- Aplicar el mismo preprocesamiento que se usó para el dataset.\n",
        "\n",
        "- Pasar las imágenes por el modelo entrenado y mostrar:\n",
        "\n",
        "  - La imagen original (preprocesada)\n",
        "\n",
        "  - La clase inferida por el modelo\n",
        "\n",
        "- Redactar conclusiones y comentarios finales"
      ]
    },
    {
      "cell_type": "markdown",
      "metadata": {},
      "source": [
        "# RESOLUCIÓN"
      ]
    },
    {
      "cell_type": "markdown",
      "metadata": {},
      "source": [
        "### 0. LIBRERÍAS GENERALES"
      ]
    },
    {
      "cell_type": "code",
      "execution_count": 1,
      "metadata": {},
      "outputs": [],
      "source": [
        "# For data manipulation\n",
        "import numpy as np\n",
        "\n",
        "# For visualization\n",
        "import matplotlib.pyplot as plt\n",
        "\n",
        "import torch"
      ]
    },
    {
      "cell_type": "markdown",
      "metadata": {},
      "source": [
        "### 1. PREPROCESAMIENTO DE DATOS"
      ]
    },
    {
      "cell_type": "markdown",
      "metadata": {},
      "source": [
        "#### 1.1 PRELIMINAR"
      ]
    },
    {
      "cell_type": "code",
      "execution_count": 2,
      "metadata": {},
      "outputs": [],
      "source": [
        "# import gdown\n",
        "# import zipfile\n",
        "\n",
        "# # URL del archivo de Google Drive\n",
        "# url = 'https://drive.google.com/uc?id=10EWwOriegjawQ3evl1nuIldY3pUR-hQc'\n",
        "# output = 'dataset.zip'\n",
        "\n",
        "# # Descargar el archivo zip\n",
        "# gdown.download(url, output, quiet=False)\n",
        "\n",
        "# print(\"Dataset descargado.\")\n",
        "\n",
        "# # Descomprimir el archivo zip directamente en el directorio raíz\n",
        "# with zipfile.ZipFile(output, 'r') as zip_ref:\n",
        "#     zip_ref.extractall('.')  # Extraer en el directorio actual\n",
        "\n",
        "# print(\"Dataset descomprimido.\")"
      ]
    },
    {
      "cell_type": "code",
      "execution_count": 2,
      "metadata": {},
      "outputs": [],
      "source": [
        "dataset_folderpath = './dataset_emociones/'"
      ]
    },
    {
      "cell_type": "markdown",
      "metadata": {},
      "source": [
        "#### 1.1 DATA ANALYSIS"
      ]
    },
    {
      "cell_type": "markdown",
      "metadata": {},
      "source": [
        "Cargamos el dataset de entrenamiento:"
      ]
    },
    {
      "cell_type": "code",
      "execution_count": null,
      "metadata": {},
      "outputs": [],
      "source": [
        "from torchvision import datasets\n",
        "\n",
        "# Cargar el conjunto de entrenamiento\n",
        "train_dataset = datasets.ImageFolder(root = dataset_folderpath + 'train')\n"
      ]
    },
    {
      "cell_type": "markdown",
      "metadata": {},
      "source": [
        "Veamos el tamaño de las imágenes del dataset:"
      ]
    },
    {
      "cell_type": "code",
      "execution_count": 4,
      "metadata": {},
      "outputs": [
        {
          "name": "stdout",
          "output_type": "stream",
          "text": [
            "Ancho mínimo: 100, Ancho máximo: 100\n",
            "Altura mínima: 100, Altura máxima: 100\n"
          ]
        }
      ],
      "source": [
        "# Inicializar las alturas y anchuras\n",
        "min_height = float('inf')\n",
        "max_height = float('-inf')\n",
        "min_width = float('inf')\n",
        "max_width = float('-inf')\n",
        "\n",
        "# Iterar sobre el conjunto de datos para obtener dimensiones\n",
        "for img, label in train_dataset:\n",
        "    width, height = img.size  # Obtener dimensiones de la imagen\n",
        "    min_width = min(min_width, width)\n",
        "    max_width = max(max_width, width)\n",
        "    min_height = min(min_height, height)\n",
        "    max_height = max(max_height, height)\n",
        "\n",
        "print(f\"Ancho mínimo: {min_width}, Ancho máximo: {max_width}\")\n",
        "print(f\"Altura mínima: {min_height}, Altura máxima: {max_height}\")"
      ]
    },
    {
      "cell_type": "markdown",
      "metadata": {},
      "source": [
        "**OBSERVACIONES:**\n",
        "\n",
        "- Todas las imágenes tienen el mismo ancho y altura.\n",
        "\n",
        "- La relación de aspecto es 1."
      ]
    },
    {
      "cell_type": "code",
      "execution_count": 5,
      "metadata": {},
      "outputs": [
        {
          "name": "stdout",
          "output_type": "stream",
          "text": [
            "La cantidad de clases es:  7\n",
            "Las clases son:  ['alegria', 'disgusto', 'enojo', 'miedo', 'seriedad', 'sorpresa', 'tristeza']\n",
            "Índice a Clase:  {'alegria': 0, 'disgusto': 1, 'enojo': 2, 'miedo': 3, 'seriedad': 4, 'sorpresa': 5, 'tristeza': 6}\n"
          ]
        }
      ],
      "source": [
        "nclasses = len(train_dataset.classes)\n",
        "\n",
        "print(\"La cantidad de clases es: \", nclasses)\n",
        "print(\"Las clases son: \", train_dataset.classes)\n",
        "print(\"Índice a Clase: \", train_dataset.class_to_idx)"
      ]
    },
    {
      "cell_type": "code",
      "execution_count": 9,
      "metadata": {},
      "outputs": [
        {
          "data": {
            "image/png": "[encoded data removed]",
            "text/plain": [
              "<Figure size 1000x500 with 1 Axes>"
            ]
          },
          "metadata": {},
          "output_type": "display_data"
        }
      ],
      "source": [
        "from collections import Counter\n",
        "\n",
        "# Contar las clases en el conjunto de entrenamiento\n",
        "class_names = train_dataset.classes\n",
        "class_counts = Counter(sample[1] for sample in train_dataset.samples)\n",
        "\n",
        "# Obtener los nombres de las clases y sus recuentos\n",
        "classes = [class_names[i] for i in range(len(class_names))]\n",
        "counts = [class_counts[i] for i in range(len(class_names))]\n",
        "\n",
        "# Crear el gráfico de barras\n",
        "plt.figure(figsize=(10, 5))\n",
        "plt.bar(classes, counts)\n",
        "plt.title('Training class balance')\n",
        "plt.xlabel('Classes')\n",
        "plt.ylabel('Number of images')\n",
        "plt.xticks(rotation=45)\n",
        "plt.tight_layout()\n",
        "plt.show()"
      ]
    },
    {
      "cell_type": "markdown",
      "metadata": {},
      "source": [
        "**OBSERVACIONES:**\n",
        "\n",
        "- Vemos que hay un desbalance notorio de clases.\n",
        "\n",
        "- Se propone hacer *data augmentation* para balancear las clases."
      ]
    },
    {
      "cell_type": "code",
      "execution_count": null,
      "metadata": {},
      "outputs": [],
      "source": [
        "for i, folder in enumerate(img_data.keys()):\n",
        "  print(folder)\n",
        "  sample_size = 10\n",
        "  images = [Image.open(x) for x in random.sample(img_data[folder], sample_size)]\n",
        "\n",
        "  im_size = 128\n",
        "  new_im = Image.new('RGB', (im_size*sample_size, im_size))\n",
        "\n",
        "  x_offset = 0\n",
        "  for im in images:\n",
        "    im.thumbnail((im_size,im_size))\n",
        "    new_im.paste(im, (x_offset,0))\n",
        "    x_offset += im.size[0]\n",
        "\n",
        "  display(new_im)"
      ]
    },
    {
      "cell_type": "code",
      "execution_count": 7,
      "metadata": {},
      "outputs": [
        {
          "name": "stdout",
          "output_type": "stream",
          "text": [
            "Dimension del set de train: 12271\n",
            "Dimension del set de test: 3068\n",
            "Fracción de datos de train: 0.7999869613403742\n",
            "Fracción de datos de test: 0.2000130386596258\n"
          ]
        }
      ],
      "source": [
        "ntrain = len(train_dataset)\n",
        "ntest = len(test_dataset)\n",
        "\n",
        "train_size = ntrain / (ntrain + ntest)\n",
        "test_size = ntest / (ntrain + ntest)\n",
        "\n",
        "print(\"Dimension del set de train:\", ntrain)\n",
        "print(\"Dimension del set de test:\", ntest)\n",
        "\n",
        "print(\"Fracción de datos de train:\", train_size)\n",
        "print(\"Fracción de datos de test:\", test_size)"
      ]
    },
    {
      "cell_type": "code",
      "execution_count": 10,
      "metadata": {},
      "outputs": [],
      "source": [
        "def display_img(img,label):\n",
        "    print(f\"Label : {train_dataset.classes[label]}\")\n",
        "    plt.imshow(img)                  # Permute method reshapes the image from (3,150,150) to (150,150,3)\n",
        "\n",
        "# Display the first image in the dataset\n",
        "# display_img(*train_dataset[0])"
      ]
    },
    {
      "cell_type": "markdown",
      "metadata": {},
      "source": [
        "#### 1.3 DATA AUGMENTATION"
      ]
    },
    {
      "cell_type": "markdown",
      "metadata": {},
      "source": [
        "As we want the model to learn to discern patterns from a diverse number of images, we will increase the number of images by augmenting them using a combination of the following:\n",
        "\n",
        "- Randomly rotating images\n",
        "- Converting images to grey scale\n",
        "- Randomly cropping images\n",
        "- Adding blur\n",
        "- Changing image saturation and brightness\n",
        "- Flipping images"
      ]
    },
    {
      "cell_type": "code",
      "execution_count": null,
      "metadata": {},
      "outputs": [],
      "source": [
        "image_transforms = transforms.Compose(\n",
        "    [\n",
        "        transforms.RandomRotation(10),\n",
        "        transforms.RandomHorizontalFlip(0.5),\n",
        "        transforms.RandomVerticalFlip(0.5),\n",
        "        transforms.RandomGrayscale(0.5),\n",
        "        transforms.RandomAdjustSharpness(0.5),\n",
        "        transforms.ColorJitter(0.4, 0.4, 0.4),\n",
        "        transforms.GaussianBlur(3),\n",
        "        transforms.ToTensor()\n",
        "    ]\n",
        ")\n",
        "\n",
        "img = Image.open(img_data['Basalt'][0])\n",
        "fig, axarr = plt.subplots(1,4)\n",
        "aug_test = [image_transforms(img).permute(1, 2, 0) for i in range(3)]\n",
        "for ax, im in zip(axarr, [img]+aug_test):\n",
        "    ax.imshow(im)\n",
        "    ax.axis('off')\n",
        "plt.show()"
      ]
    },
    {
      "cell_type": "code",
      "execution_count": null,
      "metadata": {},
      "outputs": [],
      "source": [
        "train_data = {}\n",
        "\n",
        "for folder in os.listdir(OUTPUT_DIR+'train/'):\n",
        "    img_path = OUTPUT_DIR+'train/' + folder + '/'\n",
        "    train_data[folder] = [img_path + img for img in os.listdir(img_path)]\n",
        "\n",
        "max_num_img = max([len(v) for k,v in train_data.items()])\n",
        "print(f\"Number of images in largest class: {max_num_img}\")"
      ]
    },
    {
      "cell_type": "code",
      "execution_count": null,
      "metadata": {},
      "outputs": [],
      "source": [
        "aug_data = {}\n",
        "\n",
        "for folder in os.listdir(OUTPUT_DIR + 'train/'):\n",
        "    img_path = OUTPUT_DIR + 'train/' + folder + '/'\n",
        "    aug_data[folder] = len(os.listdir(img_path))\n",
        "\n",
        "plt.bar(aug_data.keys(), aug_data.values())\n",
        "plt.ylabel('Number of training images')\n",
        "plt.xlabel('Rock classes')\n",
        "plt.show()"
      ]
    },
    {
      "cell_type": "code",
      "execution_count": null,
      "metadata": {},
      "outputs": [],
      "source": [
        "for folder, path_list in train_data.items():\n",
        "    if len(path_list) < max_num_img:\n",
        "        sets = (max_num_img-len(path_list)) // len(path_list)\n",
        "        mod = (max_num_img-len(path_list)) % len(path_list)\n",
        "        for i, path in enumerate(path_list):\n",
        "            img = Image.open(path)\n",
        "            img = img.convert('RGB')\n",
        "            sets_iter = sets + 1 if i < mod else sets\n",
        "            for k in range(sets_iter):\n",
        "                save_image(image_transforms(img), f'{OUTPUT_DIR}/train/{folder}/augmented_{i}_{k}.jpg')"
      ]
    },
    {
      "cell_type": "code",
      "execution_count": null,
      "metadata": {},
      "outputs": [],
      "source": [
        "from torchvision.transforms import v2           # usamos v2 porque es más rápido y presenta más capacidades\n",
        "import random\n",
        "\n",
        "\n",
        "#Gausian Noise\n",
        "def addnoise(input_image, noise_factor = 0.3):\n",
        "    inputs = v2.ToTensor()(input_image)\n",
        "    noisy = inputs + torch.rand_like(inputs) * noise_factor\n",
        "    noisy = torch.clip (noisy,0,1.)\n",
        "    output_image = v2.ToPILImage()\n",
        "    image = output_image(noisy)\n",
        "    return image\n",
        "\n",
        "#Colour Jitter\n",
        "colour_jitter_transformation_1 = v2.ColorJitter(brightness=(0.5,1.5),contrast=(3),saturation=(0.3,1.5),hue=(-0.1,0.1))\n",
        "colour_jitter_transformation_2 = v2.ColorJitter(brightness=(0.7),contrast=(6),saturation=(0.9),hue=(-0.1,0.1))\n",
        "colour_jitter_transformation_3 = v2.ColorJitter(brightness=(0.5,1.5),contrast=(2),saturation=(1.4),hue=(-0.1,0.5))\n",
        "\n",
        "#Random invert\n",
        "random_invert_transform = T.RandomInvert()\n",
        "\n",
        "#Main function that calls all the above functions to create 11 augmented images from one image\n",
        "def augment_image(img_path, n_rotation = 3, ):\n",
        "\n",
        "    # Original image\n",
        "    orig_img = Image.open(Path(img_path))\n",
        "    \n",
        "    # Random rotation\n",
        "    rotation_img = []\n",
        "    for i in n_rotation:\n",
        "        rotation_transform = v2.RandomRotation()\n",
        "        rotation_img.append(rotation_transform(orig_img))\n",
        "        \n",
        "    \n",
        "    # Gaussian Blur\n",
        "    gaussian_blur_img = []\n",
        "    for i in n_rotation:\n",
        "        gaussian_blur_transform = v2.GaussianBlur(kernel_size = (7,13), sigma = (6 , 9))\n",
        "        gaussian_blur_img.append(gaussian_blur_transform(orig_img))\n",
        "\n",
        "    noised_img = []\n",
        "    #Gausian Noise\n",
        "    rnd_noise = random.rand(0.2, 1)\n",
        "    noised_img = addnoise(orig_img, rnd_noise)\n",
        "\n",
        "    #Color Jitter\n",
        "    colour_jitter_transformation_1 = v2.ColorJitter(brightness=(0.5,1.5),contrast=(3),saturation=(0.3,1.5),hue=(-0.1,0.1))\n",
        "    colour_jitter_image_1 = colour_jitter_transformation_1(orig_img)\n",
        "    \n",
        "        return [orig_img,grayscaled_image,random_rotation_transformation_45_image,random_rotation_transformation_65_image,random_rotation_transformation_85_image,gausian_blurred_image_13_image,gausian_blurred_image_56_image,gausian_image_3,gausian_image_6,gausian_image_9,colour_jitter_image_1,colour_jitter_image_2,colour_jitter_image_3]\n",
        "\n",
        "#augmented_images = augment_image(orig_img_path)\n",
        "\n",
        "def creating_file_with_augmented_images(file_path_master_dataset,file_path_augmented_images):\n",
        "    \n",
        "    master_dataset_folder = file_path_master_dataset\n",
        "    files_in_master_dataset = os.listdir(file_path_master_dataset)\n",
        "    augmented_images_folder = file_path_augmented_images\n",
        "    \n",
        "    counter=0\n",
        "    \n",
        "    for element in files_in_master_dataset:\n",
        "        os.mkdir(f\"{augmented_images_folder}/{element}\")\n",
        "        images_in_folder= os.listdir(f\"{master_dataset_folder}/{element}\")\n",
        "        counter = counter+1\n",
        "        counter2 = 0\n",
        "        for image in images_in_folder:\n",
        "            counter\n",
        "            required_images = augment_image(f\"{master_dataset_folder}/{element}/{image}\")\n",
        "            counter2=counter2+1\n",
        "            counter3 = 0\n",
        "            for augmented_image in required_images:\n",
        "                counter3 = counter3 +1\n",
        "                augmented_image = augmented_image.save(f\"{augmented_images_folder}/{element}/{counter}_{counter2}_{counter3}_{image}\")\n",
        "\n",
        "\"\"\"images = augment_image(\"dog.png\")\n",
        "\n",
        "for element in images:\n",
        "    element.show()\"\"\"\n",
        "\n",
        "#augmented dataset path\n",
        "augmented_dataset = \"/Users/software/Desktop/sem_6/Hieroglyphics_nlp/Code_image_augmentation/augmented_images_dataset\"\n",
        "\n",
        "# master dataset path\n",
        "master_dataset = \"/Users/software/Desktop/sem_6/Hieroglyphics_nlp/Code_image_augmentation/Master_dataset\"\n",
        "\n",
        "# run the program\n",
        "\n",
        "creating_file_with_augmented_images(master_dataset,augmented_dataset)"
      ]
    },
    {
      "cell_type": "code",
      "execution_count": null,
      "metadata": {},
      "outputs": [],
      "source": []
    },
    {
      "cell_type": "markdown",
      "metadata": {},
      "source": [
        "#### 1.2 TRAIN, VALIDATION AND TEST DATASET"
      ]
    },
    {
      "cell_type": "code",
      "execution_count": null,
      "metadata": {},
      "outputs": [],
      "source": [
        "\n",
        "# Cargar el conjunto de prueba\n",
        "test_dataset = datasets.ImageFolder(root = dataset_folderpath + 'test')"
      ]
    },
    {
      "cell_type": "code",
      "execution_count": null,
      "metadata": {},
      "outputs": [],
      "source": [
        "import torch\n",
        "from torchvision import datasets\n",
        "from torchvision.transforms import v2           # usamos v2 porque es más rápido y presenta más capacidades\n",
        "from torch.utils.data import DataLoader\n",
        "\n",
        "# Definir transformaciones\n",
        "transform = v2.Compose([\n",
        "    v2.Resize((150, 150)),                                      # Resize images\n",
        "    v2.ToImage(),                                   \n",
        "    v2.ToDtype(torch.float32, scale=True),                      # Replace v1.ToTensor(): Convert images to tensor between [0,1]                                      # \n",
        "    v2.Normalize((0.5, 0.5, 0.5), (0.5, 0.5, 0.5)),             # Normalize RGB channels\n",
        "    v2.Grayscale(num_output_channels=1),                        # Convert images to grayscale\n",
        "    ])\n",
        "\n",
        "\n",
        "\n",
        "batch_size = 32\n",
        "\n",
        "# Cargar el conjunto de entrenamiento\n",
        "train_dataset = datasets.ImageFolder(root = dataset_folderpath + 'train', transform = transform)\n",
        "train_loader = DataLoader(train_dataset, batch_size=batch_size, shuffle=True)\n",
        "\n",
        "# Cargar el conjunto de prueba\n",
        "test_dataset = datasets.ImageFolder(root = dataset_folderpath + 'test', transform = transform)\n",
        "test_loader = DataLoader(test_dataset, batch_size=batch_size, shuffle=False)\n"
      ]
    },
    {
      "cell_type": "code",
      "execution_count": 4,
      "metadata": {},
      "outputs": [
        {
          "name": "stdout",
          "output_type": "stream",
          "text": [
            "Dimension del set de train: 12271\n",
            "Dimension del set de test: 3068\n",
            "Fracción de datos de train: 0.7999869613403742\n",
            "Fracción de datos de test: 0.2000130386596258\n"
          ]
        }
      ],
      "source": [
        "ntrain = len(train_dataset)\n",
        "ntest = len(test_dataset)\n",
        "\n",
        "train_size = ntrain / (ntrain + ntest)\n",
        "test_size = ntest / (ntrain + ntest)\n",
        "\n",
        "print(\"Dimension del set de train:\", ntrain)\n",
        "print(\"Dimension del set de test:\", ntest)\n",
        "\n",
        "print(\"Fracción de datos de train:\", train_size)\n",
        "print(\"Fracción de datos de test:\", test_size)\n"
      ]
    },
    {
      "cell_type": "code",
      "execution_count": 6,
      "metadata": {},
      "outputs": [
        {
          "name": "stdout",
          "output_type": "stream",
          "text": [
            "torch.Size([32, 1, 100, 100])\n",
            "tensor([0, 0, 5, 4, 1, 0, 0, 2, 0, 6, 0, 0, 6, 4, 0, 0, 5, 0, 0, 0, 0, 4, 4, 5,\n",
            "        0, 6, 5, 6, 0, 4, 4, 4])\n"
          ]
        }
      ],
      "source": [
        "for images, labels in train_loader:\n",
        "    print(images.shape)  # Imprime la forma de las imágenes\n",
        "    print(labels)        # Imprime las etiquetas (números enteros codificados)\n",
        "    break  # Salir después del primer lote"
      ]
    },
    {
      "cell_type": "code",
      "execution_count": null,
      "metadata": {},
      "outputs": [],
      "source": [
        "from torchvision.utils import make_grid\n",
        "\n",
        "def show_batch(dl):\n",
        "    \"\"\"Plot images grid of single batch\"\"\"\n",
        "    for images, labels in dl:\n",
        "        fig,ax = plt.subplots(figsize = (16,12))\n",
        "        ax.set_xticks([])\n",
        "        ax.set_yticks([])\n",
        "        ax.imshow(make_grid(images,nrow=10).permute(1,2,0))\n",
        "        break\n",
        "        \n",
        "show_batch(train_loader)"
      ]
    },
    {
      "cell_type": "code",
      "execution_count": 8,
      "metadata": {},
      "outputs": [
        {
          "name": "stdout",
          "output_type": "stream",
          "text": [
            "Dimension del set de train: 9204\n",
            "Dimension del set de validation: 3067\n",
            "Fracción de datos de train: 0.6000391159788774\n",
            "Fracción de datos de validation: 0.19994784536149685\n"
          ]
        }
      ],
      "source": [
        "# Generamos el Validation Set\n",
        "val_size = 0.20 / train_size                    # 20% del set total                 \n",
        "val_size = int(val_size * ntrain)\n",
        "train_size_2 = ntrain - val_size\n",
        "train_data, val_data = torch.utils.data.random_split(train_dataset, [train_size_2, val_size])\n",
        "\n",
        "# Cargamos ambos sets\n",
        "train_loader = torch.utils.data.DataLoader(train_data, batch_size=batch_size, shuffle=True)\n",
        "val_loader = torch.utils.data.DataLoader(val_data, batch_size=batch_size, shuffle=False)\n",
        "\n",
        "ntrain = len(train_data)\n",
        "nval = len(val_data)\n",
        "\n",
        "train_size = ntrain / (ntrain + nval + ntest)\n",
        "val_size = nval / (ntrain + nval + ntest)\n",
        "\n",
        "print(\"Dimension del set de train:\", ntrain)\n",
        "print(\"Dimension del set de validation:\", nval)\n",
        "\n",
        "print(\"Fracción de datos de train:\", train_size)\n",
        "print(\"Fracción de datos de validation:\", val_size)"
      ]
    },
    {
      "cell_type": "markdown",
      "metadata": {},
      "source": [
        "### 2. CNN MODEL"
      ]
    },
    {
      "cell_type": "markdown",
      "metadata": {},
      "source": [
        "#### 2.1 Model definition"
      ]
    },
    {
      "cell_type": "markdown",
      "metadata": {},
      "source": [
        "Definimos una clase base con funcionalidades orientadas a entrenar el modelo, validarlo y obtener los resultados por epoch."
      ]
    },
    {
      "cell_type": "code",
      "execution_count": 31,
      "metadata": {},
      "outputs": [],
      "source": [
        "import torch.nn as nn\n",
        "from torch import stack\n",
        "import torch.nn.functional as F\n",
        "\n",
        "class ImageClassificationBase(nn.Module):\n",
        "    \n",
        "    def training_step(self, batch):\n",
        "        images, labels = batch \n",
        "        out = self(images)                                  # Generate predictions\n",
        "        loss = nn.functional.cross_entropy(out, labels)     # Calculate loss\n",
        "        return loss\n",
        "    \n",
        "    def validation_step(self, batch):\n",
        "        images, labels = batch \n",
        "        out = self(images)                    # Generate predictions\n",
        "        loss = F.cross_entropy(out, labels)   # Calculate loss\n",
        "        acc = accuracy(out, labels)           # Calculate accuracy\n",
        "        return {'val_loss': loss.detach(), 'val_acc': acc}\n",
        "        \n",
        "    def validation_epoch_end(self, outputs):\n",
        "        batch_losses = [x['val_loss'] for x in outputs]     # Recover batch losses\n",
        "        epoch_loss = stack(batch_losses).mean()             # Combine losses\n",
        "        batch_accs = [x['val_acc'] for x in outputs]        # Recover batch accuracies\n",
        "        epoch_acc = stack(batch_accs).mean()                # Combine accuracies\n",
        "        return {'val_loss': epoch_loss.item(), 'val_acc': epoch_acc.item()}\n",
        "    \n",
        "    def epoch_end(self, epoch, result):\n",
        "        print(\"Epoch [{}], train_loss: {:.4f}, val_loss: {:.4f}, val_acc: {:.4f}\".format(\n",
        "            epoch, result['train_loss'], result['val_loss'], result['val_acc']))"
      ]
    },
    {
      "cell_type": "markdown",
      "metadata": {},
      "source": [
        "Defino ahora mi CNN tomando como base la clase \"ImageClassificationBase\" definida previamente."
      ]
    },
    {
      "cell_type": "code",
      "execution_count": 32,
      "metadata": {},
      "outputs": [],
      "source": [
        "# Bloque de convolución para emplear en mi red\n",
        "def conv_block(c_in, c_out, activation = nn.ReLU(), k=3, p='same', s=1, pk=2):\n",
        "    return nn.Sequential(                                   # el módulo Sequential se engarga de hacer el forward de todo lo que tiene dentro.\n",
        "        nn.Conv2d(c_in, c_out, k, padding=p, stride=s),     # conv\n",
        "        activation,                                         # activation\n",
        "        nn.MaxPool2d(pk)                                    # pooling\n",
        "    )\n",
        "\n",
        "# Función auxiliar para calcular la dimensión de salida de la red convolucional\n",
        "def calculate_output_dimensions(input_height, \n",
        "                                input_width, \n",
        "                                n_conv_layers, \n",
        "                                kernel_size, \n",
        "                                padding_type, \n",
        "                                stride, \n",
        "                                pooling_kernel_size):\n",
        "    heights = []\n",
        "    widths = []\n",
        "\n",
        "    if padding_type == 'valid':\n",
        "        padding = 0\n",
        "    elif padding_type == 'same':\n",
        "        padding = kernel_size // 2\n",
        "    elif padding_type == 'full':\n",
        "        padding = kernel_size - 1\n",
        "\n",
        "    current_height = input_height\n",
        "    current_width = input_width\n",
        "\n",
        "    for _ in range(n_conv_layers):\n",
        "        # Calcula la salida de la capa convolucional\n",
        "        current_height = (current_height + 2 * padding - kernel_size) // stride + 1\n",
        "        current_width = (current_width + 2 * padding - kernel_size) // stride + 1\n",
        "\n",
        "        # Aplica el max pooling\n",
        "        current_height = (current_height - pooling_kernel_size) // pooling_kernel_size + 1\n",
        "        current_width = (current_width - pooling_kernel_size) // pooling_kernel_size + 1\n",
        "\n",
        "        # Guarda la altura y el ancho después de cada capa\n",
        "        heights.append(current_height)      # Guarda la altura\n",
        "        widths.append(current_width)        # Guarda el ancho\n",
        "\n",
        "    return heights, widths"
      ]
    },
    {
      "cell_type": "code",
      "execution_count": null,
      "metadata": {},
      "outputs": [],
      "source": [
        "class CNN_EmotionClassifier(ImageClassificationBase):\n",
        "    def __init__(self, \n",
        "                 inputs_by_conv_layer = [1, 32],    # Convolutional layers\n",
        "                 inputs_by_hidden_layer = [],       # Fully connected HIDDEN layers\n",
        "                 n_outputs = None,\n",
        "                 in_height = None,\n",
        "                 in_width = None,\n",
        "                 info = True):\n",
        "        \n",
        "        super().__init__()\n",
        "\n",
        "        # -----------------------------------------------------\n",
        "        # ACTIVATION FUNCTION\n",
        "        # -----------------------------------------------------\n",
        "\n",
        "        self.activation = nn.ReLU()\n",
        "\n",
        "        # -----------------------------------------------------\n",
        "        # CONVOLUTIONAL LAYERS\n",
        "        # -----------------------------------------------------\n",
        "\n",
        "        self.kernel = 3\n",
        "        self.padding = 'same'\n",
        "        self.stride = 1\n",
        "        self.poolingk = 2\n",
        "\n",
        "        self.conv = nn.ModuleList()\n",
        "        self.n_conv_layers = len(inputs_by_conv_layer) - 1\n",
        "\n",
        "        for i in range(self.n_conv_layers):\n",
        "            self.conv.append(conv_block(inputs_by_conv_layer[i], \n",
        "                                        inputs_by_conv_layer[i+1], \n",
        "                                        activation = self.activation, \n",
        "                                        k=self.kernel, \n",
        "                                        p=self.padding, \n",
        "                                        s=self.stride,\n",
        "                                        pk=self.poolingk))\n",
        "            \n",
        "        conv_heights, conv_width = calculate_output_dimensions(in_height, \n",
        "                                                                in_width,\n",
        "                                                                self.n_conv_layers, \n",
        "                                                                self.kernel, \n",
        "                                                                self.padding, \n",
        "                                                                self.stride, \n",
        "                                                                self.poolingk)  \n",
        "\n",
        "        # -----------------------------------------------------\n",
        "        # FULLY CONNECTED HIDDEN LAYERS\n",
        "        # -----------------------------------------------------\n",
        "\n",
        "        self.lin = nn.ModuleList()\n",
        "\n",
        "        conv_out_height = conv_heights[-1]  # Altura de salida de la última capa convolucional\n",
        "        conv_out_width = conv_width[-1]     # Ancho de salida de la última capa convolucional\n",
        "        inputs_by_lin_layer = [inputs_by_conv_layer[-1]*conv_out_height*conv_out_width]\n",
        "        inputs_by_lin_layer.extend(inputs_by_hidden_layer)\n",
        "\n",
        "        self.n_lin_layers = len(inputs_by_lin_layer) - 1\n",
        "        for i in range(self.n_lin_layers):\n",
        "            self.lin.append(nn.Linear(in_features=inputs_by_lin_layer[i], out_features=inputs_by_lin_layer[i + 1]))\n",
        "        \n",
        "        # -----------------------------------------------------\n",
        "        # OUTPUT LAYERS\n",
        "        # -----------------------------------------------------\n",
        "\n",
        "        self.output = nn.Linear(in_features=inputs_by_lin_layer[-1], out_features=n_outputs)  # Output size igual a n_classes\n",
        "\n",
        "        if info:\n",
        "            print('Neural Network successfully built')\n",
        "            print('Architecture:')\n",
        "            print(' ')        \n",
        "            print(self)\n",
        "            print(' ')        \n",
        "            print('Número total de capas de Convolucionales: ', self.n_conv_layers)\n",
        "            print('Número total de capas de Fully Connected: ', self.n_lin_layers+1)\n",
        "            print('Número total de capas : ', self.n_conv_layers + self.n_lin_layers + 1)       \n",
        "\n",
        "        # Me fijo en el número de parámetros entrenables\n",
        "        pytorch_total_params = sum(p.numel() for p in self.parameters() if p.requires_grad)\n",
        "        print('Número total de parámetros a entrenar: ', pytorch_total_params)\n",
        "\n",
        "    def forward(self, x):\n",
        "        # Forward step\n",
        "        # CONVOLUTIONAL LAYERS\n",
        "        for i in range(self.n_conv_layers):\n",
        "            x = self.conv[i](x)\n",
        "        x = x.flatten(start_dim=1)\n",
        "        # HIDDEN LAYERS\n",
        "        for i in range(self.n_lin_layers):\n",
        "            x = self.lin[i](x)\n",
        "        # OUTPUT LAYER\n",
        "        x = self.output(x)  # No aplicar softmax aquí, se aplica en la pérdida\n",
        "        return x  # Return Logits"
      ]
    },
    {
      "cell_type": "code",
      "execution_count": null,
      "metadata": {},
      "outputs": [
        {
          "name": "stdout",
          "output_type": "stream",
          "text": [
            "Neural Network successfully built\n",
            "Architecture:\n",
            " \n",
            "CNN_EmotionClassifier(\n",
            "  (activation): ReLU()\n",
            "  (conv): ModuleList(\n",
            "    (0): Sequential(\n",
            "      (0): Conv2d(1, 4, kernel_size=(3, 3), stride=(1, 1), padding=same)\n",
            "      (1): ReLU()\n",
            "      (2): MaxPool2d(kernel_size=2, stride=2, padding=0, dilation=1, ceil_mode=False)\n",
            "    )\n",
            "    (1): Sequential(\n",
            "      (0): Conv2d(4, 8, kernel_size=(3, 3), stride=(1, 1), padding=same)\n",
            "      (1): ReLU()\n",
            "      (2): MaxPool2d(kernel_size=2, stride=2, padding=0, dilation=1, ceil_mode=False)\n",
            "    )\n",
            "    (2): Sequential(\n",
            "      (0): Conv2d(8, 16, kernel_size=(3, 3), stride=(1, 1), padding=same)\n",
            "      (1): ReLU()\n",
            "      (2): MaxPool2d(kernel_size=2, stride=2, padding=0, dilation=1, ceil_mode=False)\n",
            "    )\n",
            "  )\n",
            "  (lin): ModuleList(\n",
            "    (0): Linear(in_features=2304, out_features=64, bias=True)\n",
            "    (1): Linear(in_features=64, out_features=128, bias=True)\n",
            "  )\n",
            "  (output): Linear(in_features=128, out_features=7, bias=True)\n",
            ")\n",
            " \n",
            "Número total de capas de Convolucionales:  3\n",
            "Número total de capas de Fully Connected:  3\n",
            "Número total de capas :  6\n",
            "Número total de parámetros a entrenar:  158247\n"
          ]
        }
      ],
      "source": []
    },
    {
      "cell_type": "code",
      "execution_count": 35,
      "metadata": {},
      "outputs": [
        {
          "data": {
            "text/plain": [
              "=================================================================\n",
              "Layer (type:depth-idx)                   Param #\n",
              "=================================================================\n",
              "CNN_EmotionClassifier                    --\n",
              "├─ReLU: 1-1                              --\n",
              "├─ModuleList: 1-2                        --\n",
              "│    └─Sequential: 2-1                   --\n",
              "│    │    └─Conv2d: 3-1                  40\n",
              "│    │    └─ReLU: 3-2                    --\n",
              "│    │    └─MaxPool2d: 3-3               --\n",
              "│    └─Sequential: 2-2                   --\n",
              "│    │    └─Conv2d: 3-4                  296\n",
              "│    │    └─ReLU: 3-5                    --\n",
              "│    │    └─MaxPool2d: 3-6               --\n",
              "│    └─Sequential: 2-3                   --\n",
              "│    │    └─Conv2d: 3-7                  1,168\n",
              "│    │    └─ReLU: 3-8                    --\n",
              "│    │    └─MaxPool2d: 3-9               --\n",
              "├─ModuleList: 1-3                        --\n",
              "│    └─Linear: 2-4                       147,520\n",
              "│    └─Linear: 2-5                       8,320\n",
              "├─Linear: 1-4                            903\n",
              "=================================================================\n",
              "Total params: 158,247\n",
              "Trainable params: 158,247\n",
              "Non-trainable params: 0\n",
              "================================================================="
            ]
          },
          "execution_count": 35,
          "metadata": {},
          "output_type": "execute_result"
        }
      ],
      "source": [
        "import torchinfo as torchinfo\n",
        "\n",
        "torchinfo.summary(cnn_model)"
      ]
    },
    {
      "cell_type": "code",
      "execution_count": 36,
      "metadata": {},
      "outputs": [],
      "source": [
        "def accuracy(outputs, labels):\n",
        "    _, preds = torch.max(outputs, dim=1)\n",
        "    return torch.tensor(torch.sum(preds == labels).item() / len(preds))\n",
        "\n",
        "\n",
        "@torch.no_grad()\n",
        "def evaluate(model, val_loader):\n",
        "    model.eval()\n",
        "    outputs = [model.validation_step(batch) for batch in val_loader]\n",
        "    return model.validation_epoch_end(outputs)\n",
        "\n",
        "\n",
        "def fit(epochs, lr, model, train_loader, val_loader, opt_func = torch.optim.SGD):\n",
        "    \n",
        "    history = []\n",
        "    optimizer = opt_func(model.parameters(),lr)\n",
        "    for epoch in range(epochs):\n",
        "        \n",
        "        model.train()\n",
        "        train_losses = []\n",
        "        for batch in train_loader:\n",
        "            loss = model.training_step(batch)\n",
        "            train_losses.append(loss)\n",
        "            loss.backward()\n",
        "            optimizer.step()\n",
        "            optimizer.zero_grad()\n",
        "            \n",
        "        result = evaluate(model, val_loader)\n",
        "        result['train_loss'] = torch.stack(train_losses).mean().item()\n",
        "        model.epoch_end(epoch, result)\n",
        "        history.append(result)\n",
        "    \n",
        "    return history"
      ]
    },
    {
      "cell_type": "markdown",
      "metadata": {},
      "source": [
        "#### 2.1 Hyperparameter tunning"
      ]
    },
    {
      "cell_type": "code",
      "execution_count": null,
      "metadata": {},
      "outputs": [],
      "source": [
        "import optuna\n",
        "\n",
        "def objective(trial):\n",
        "       \n",
        "    lr = trial.suggest_loguniform('lr', 1e-5, 1e-2)                  # Learning rate\n",
        "    n_conv_layers = trial.suggest_int('n_conv_layers', 3, 6)         # Número de capas convolucionales\n",
        "    n_hidden_layers = trial.suggest_int('n_conv_layers', 3, 6)       # Número de capas fully connected\n",
        "    \n",
        "    last_cout = 4\n",
        "    inputs_by_conv_layer = [n_channels, last_cout]\n",
        "    for i in range(n_conv_layers-1):\n",
        "        inputs_by_conv_layer.append(last_cout * 2)\n",
        "        last_cout *= 2\n",
        "    \n",
        "    # FCNN Hidden parameters\n",
        "    last_hout = 64\n",
        "    inputs_by_hidden_layer = [last_hout]\n",
        "    for i in range(n_hidden_layers-1):\n",
        "        inputs_by_hidden_layer.append(last_hout * 2)\n",
        "        last_hout *= 2\n",
        "        \n",
        "    # Instanciamos la red\n",
        "    cnn_model = CNN_EmotionClassifier(inputs_by_conv_layer,\n",
        "                    inputs_by_hidden_layer,\n",
        "                    n_outputs = nclasses,\n",
        "                    in_height = 100,\n",
        "                    in_width = 100)\n",
        "    \n",
        "    # Run training loop and return final loss\n",
        "    num_epochs = 1\n",
        "    opt_func = torch.optim.Adam\n",
        "    #fitting the model on training data and record the result after each epoch\n",
        "    history = fit(num_epochs, lr, cnn_model, train_loader_sample, val_loader_sample, opt_func)  \n",
        "\n",
        "    return loss\n",
        "\n",
        "study = optuna.create_study(direction='minimize')\n",
        "study.optimize(objective, n_trials=10)\n",
        "print(\"Best hyperparameters:\", study.best_params)"
      ]
    },
    {
      "cell_type": "markdown",
      "metadata": {},
      "source": [
        "#### 2.3 Best CNN Model"
      ]
    },
    {
      "cell_type": "code",
      "execution_count": null,
      "metadata": {},
      "outputs": [],
      "source": [
        "# CNN parameters\n",
        "n_channels = 1\n",
        "n_conv_layers = 3\n",
        "last_cout = 4\n",
        "inputs_by_conv_layer = [n_channels, last_cout]\n",
        "for i in range(n_conv_layers-1):\n",
        "    inputs_by_conv_layer.append(last_cout * 2)\n",
        "    last_cout *= 2\n",
        "\n",
        "# FCNN Hidden parameters\n",
        "inputs_by_hidden_layer = [64, 128]\n",
        "\n",
        "# Instanciamos la red\n",
        "best_cnn_model = CNN_EmotionClassifier(**cnn_best_param)"
      ]
    },
    {
      "cell_type": "markdown",
      "metadata": {},
      "source": [
        "#### 2.3 Training"
      ]
    },
    {
      "cell_type": "code",
      "execution_count": 37,
      "metadata": {},
      "outputs": [
        {
          "name": "stdout",
          "output_type": "stream",
          "text": [
            "Epoch [0], train_loss: 1.3883, val_loss: 1.1095, val_acc: 0.5999\n",
            "Epoch [1], train_loss: 1.0056, val_loss: 0.9513, val_acc: 0.6569\n",
            "Epoch [2], train_loss: 0.8498, val_loss: 0.8890, val_acc: 0.6840\n",
            "Epoch [3], train_loss: 0.7598, val_loss: 0.8626, val_acc: 0.6979\n",
            "Epoch [4], train_loss: 0.6874, val_loss: 0.8547, val_acc: 0.7034\n",
            "Epoch [5], train_loss: 0.6223, val_loss: 0.8933, val_acc: 0.6995\n",
            "Epoch [6], train_loss: 0.5673, val_loss: 0.9131, val_acc: 0.7006\n",
            "Epoch [7], train_loss: 0.5151, val_loss: 0.9492, val_acc: 0.7071\n",
            "Epoch [8], train_loss: 0.4803, val_loss: 1.0091, val_acc: 0.6820\n",
            "Epoch [9], train_loss: 0.4330, val_loss: 1.0582, val_acc: 0.6967\n",
            "Epoch [10], train_loss: 0.3890, val_loss: 1.1243, val_acc: 0.6993\n",
            "Epoch [11], train_loss: 0.3601, val_loss: 1.1862, val_acc: 0.7003\n",
            "Epoch [12], train_loss: 0.3293, val_loss: 1.2421, val_acc: 0.6987\n",
            "Epoch [13], train_loss: 0.3158, val_loss: 1.3439, val_acc: 0.6729\n",
            "Epoch [14], train_loss: 0.2870, val_loss: 1.3812, val_acc: 0.6908\n",
            "Epoch [15], train_loss: 0.2512, val_loss: 1.4778, val_acc: 0.6797\n",
            "Epoch [16], train_loss: 0.2236, val_loss: 1.7229, val_acc: 0.6881\n",
            "Epoch [17], train_loss: 0.2252, val_loss: 1.7206, val_acc: 0.6761\n",
            "Epoch [18], train_loss: 0.2160, val_loss: 1.8215, val_acc: 0.6882\n",
            "Epoch [19], train_loss: 0.1913, val_loss: 1.9169, val_acc: 0.6928\n",
            "Epoch [20], train_loss: 0.1828, val_loss: 1.8316, val_acc: 0.6897\n",
            "Epoch [21], train_loss: 0.1771, val_loss: 2.1081, val_acc: 0.6660\n",
            "Epoch [22], train_loss: 0.1858, val_loss: 1.9407, val_acc: 0.6740\n",
            "Epoch [23], train_loss: 0.1550, val_loss: 2.1092, val_acc: 0.6746\n",
            "Epoch [24], train_loss: 0.1492, val_loss: 2.2484, val_acc: 0.6713\n",
            "Epoch [25], train_loss: 0.1311, val_loss: 2.3604, val_acc: 0.6765\n",
            "Epoch [26], train_loss: 0.1347, val_loss: 2.5867, val_acc: 0.6623\n",
            "Epoch [27], train_loss: 0.1301, val_loss: 2.5370, val_acc: 0.6780\n",
            "Epoch [28], train_loss: 0.1055, val_loss: 2.7145, val_acc: 0.6774\n",
            "Epoch [29], train_loss: 0.1420, val_loss: 2.6287, val_acc: 0.6860\n"
          ]
        }
      ],
      "source": [
        "num_epochs = 30\n",
        "opt_func = torch.optim.Adam\n",
        "lr = 0.001\n",
        "#fitting the model on training data and record the result after each epoch\n",
        "history = fit(num_epochs, lr, cnn_model, train_loader, val_loader, opt_func)"
      ]
    },
    {
      "cell_type": "code",
      "execution_count": 41,
      "metadata": {},
      "outputs": [
        {
          "data": {
            "image/png": "[encoded data removed]",
            "text/plain": [
              "<Figure size 640x480 with 1 Axes>"
            ]
          },
          "metadata": {},
          "output_type": "display_data"
        }
      ],
      "source": [
        "def plot_accuracies(history):\n",
        "    \"\"\" Plot the history of accuracies\"\"\"\n",
        "    accuracies = [x['val_acc'] for x in history]\n",
        "    plt.plot(accuracies, '-x')\n",
        "    plt.xlabel('epoch')\n",
        "    plt.ylabel('accuracy')\n",
        "    plt.title('Accuracy vs. No. of epochs');\n",
        "    \n",
        "\n",
        "plot_accuracies(history)\n"
      ]
    },
    {
      "cell_type": "code",
      "execution_count": 42,
      "metadata": {},
      "outputs": [
        {
          "data": {
            "image/png": "[encoded data removed]",
            "text/plain": [
              "<Figure size 640x480 with 1 Axes>"
            ]
          },
          "metadata": {},
          "output_type": "display_data"
        }
      ],
      "source": [
        "def plot_losses(history):\n",
        "    \"\"\" Plot the losses in each epoch\"\"\"\n",
        "    train_losses = [x.get('train_loss') for x in history]\n",
        "    val_losses = [x['val_loss'] for x in history]\n",
        "    plt.plot(train_losses, '-bx')\n",
        "    plt.plot(val_losses, '-rx')\n",
        "    plt.xlabel('epoch')\n",
        "    plt.ylabel('loss')\n",
        "    plt.legend(['Training', 'Validation'])\n",
        "    plt.title('Loss vs. No. of epochs');\n",
        "\n",
        "plot_losses(history)"
      ]
    },
    {
      "cell_type": "code",
      "execution_count": 38,
      "metadata": {},
      "outputs": [],
      "source": [
        "# función de entrenamiento\n",
        "def fit(model, dataloader, epochs=15):\n",
        "    # enviamos el modelo al device\n",
        "    model.to(device)\n",
        "    # definimo optimizer y la función de pérdida\n",
        "    optimizer = torch.optim.Adam(model.parameters(), lr=1e-4)\n",
        "    criterion = torch.nn.CrossEntropyLoss()\n",
        "    # preparamos listas para guardar las loss y la acc a lo largo de la epocas\n",
        "    epoch_t_loss = []\n",
        "    epoch_v_loss = []\n",
        "    epoch_t_acc = []\n",
        "    epoch_v_acc = []\n",
        "    # iteramos en las epocas\n",
        "    for epoch in range(1, epochs+1):\n",
        "        # ponemos el modelo en train\n",
        "        model.train()\n",
        "        # listas de loss y acc de train para esta epoca\n",
        "        # así despues calculamos la media\n",
        "        # por que el dataset lo pasamos de a batches\n",
        "        train_loss, train_acc = [], []\n",
        "        bar = tqdm(dataloader['train'])\n",
        "        for batch in bar:\n",
        "            X, y = batch  # sacamos X e y del batch\n",
        "            X, y = X.to(device), y.to(device) # lo enviamos al device\n",
        "            optimizer.zero_grad() # llevamos optimizer a zero\n",
        "            y_hat = model(X)  # corremos el modelo y vemos su predicción\n",
        "            loss = criterion(y_hat, y)  # calculamos la pérdida\n",
        "            loss.backward() # back-propagations\n",
        "            optimizer.step()  # step del optimizer\n",
        "            train_loss.append(loss.item()) # vamos guardando la pérdida de este batch, en la perdida de la epoca\n",
        "            # calculo de la acc\n",
        "            acc = (y == torch.argmax(y_hat, axis=1)).sum().item() / len(y)\n",
        "            train_acc.append(acc) # vamos guardando la acc de este batch, en la acc de la epoca\n",
        "            # seteamos descriptores en la barra\n",
        "            bar.set_description(f\"loss {np.mean(train_loss):.5f} acc {np.mean(train_acc):.5f}\")\n",
        "\n",
        "        # luego de pasar todo el batch, guardamos la perdida y acc media del train\n",
        "        epoch_t_loss.append(np.mean(train_loss))\n",
        "        epoch_t_acc.append(np.mean(train_acc))\n",
        "\n",
        "\n",
        "        # ahora viene es test\n",
        "        bar = tqdm(dataloader['test'])\n",
        "        # listas de loss y acc de test para esta epoca\n",
        "        # así despues calculamos la media\n",
        "        # por que el dataset lo pasamos de a batches\n",
        "        val_loss, val_acc = [], []\n",
        "        # ponemos en eval el modelo\n",
        "        model.eval()\n",
        "        with torch.no_grad():\n",
        "            for batch in bar:\n",
        "                X, y = batch\n",
        "                X, y = X.to(device), y.to(device)\n",
        "                y_hat = model(X)\n",
        "                loss = criterion(y_hat, y)\n",
        "                val_loss.append(loss.item())\n",
        "                acc = (y == torch.argmax(y_hat, axis=1)).sum().item() / len(y)\n",
        "                val_acc.append(acc)\n",
        "                bar.set_description(f\"val_loss {np.mean(val_loss):.5f} val_acc {np.mean(val_acc):.5f}\")\n",
        "        print(f\"Epoch {epoch}/{epochs} loss {np.mean(train_loss):.5f} val_loss {np.mean(val_loss):.5f} acc {np.mean(train_acc):.5f} val_acc {np.mean(val_acc):.5f}\")\n",
        "\n",
        "        epoch_v_loss.append(np.mean(val_loss))\n",
        "        epoch_v_acc.append(np.mean(val_acc))\n",
        "\n",
        "    plt.figure()\n",
        "    plt.plot(epoch_t_loss, 'r')\n",
        "    plt.plot(epoch_v_loss, 'g')\n",
        "    plt.title('loss')\n",
        "    plt.legend(['train loss', 'val loss'])\n",
        "    plt.grid()\n",
        "\n",
        "    plt.figure()\n",
        "    plt.plot(epoch_t_acc, 'r')\n",
        "    plt.plot(epoch_v_acc, 'g')\n",
        "    plt.title('acc')\n",
        "    plt.legend(['train acc', 'val acc'])\n",
        "    plt.grid()\n",
        "    plt.show()"
      ]
    },
    {
      "cell_type": "code",
      "execution_count": 39,
      "metadata": {},
      "outputs": [
        {
          "ename": "NameError",
          "evalue": "name 'model' is not defined",
          "output_type": "error",
          "traceback": [
            "\u001b[1;31m---------------------------------------------------------------------------\u001b[0m",
            "\u001b[1;31mNameError\u001b[0m                                 Traceback (most recent call last)",
            "Cell \u001b[1;32mIn[39], line 1\u001b[0m\n\u001b[1;32m----> 1\u001b[0m fit(\u001b[43mmodel\u001b[49m, dataloader)\n",
            "\u001b[1;31mNameError\u001b[0m: name 'model' is not defined"
          ]
        }
      ],
      "source": [
        "fit(model, dataloader)"
      ]
    },
    {
      "cell_type": "code",
      "execution_count": null,
      "metadata": {},
      "outputs": [],
      "source": []
    },
    {
      "cell_type": "code",
      "execution_count": null,
      "metadata": {},
      "outputs": [],
      "source": [
        "# verifico sus dimensiones\n",
        "print(f\"Tamaño del batch de feature (input / imagen): {train_features.size()}\")\n",
        "print(f\"Tamaño del batch del label (clase / etiqueta): {train_labels.size()}\")"
      ]
    },
    {
      "cell_type": "code",
      "execution_count": null,
      "metadata": {},
      "outputs": [
        {
          "ename": "NameError",
          "evalue": "name 'train_features' is not defined",
          "output_type": "error",
          "traceback": [
            "\u001b[1;31m---------------------------------------------------------------------------\u001b[0m",
            "\u001b[1;31mNameError\u001b[0m                                 Traceback (most recent call last)",
            "Cell \u001b[1;32mIn[28], line 4\u001b[0m\n\u001b[0;32m      1\u001b[0m \u001b[38;5;66;03m# tomo 1 imagen para poder visualizarla\u001b[39;00m\n\u001b[0;32m      2\u001b[0m \u001b[38;5;66;03m# y verifico sus dimensiones\u001b[39;00m\n\u001b[1;32m----> 4\u001b[0m img \u001b[38;5;241m=\u001b[39m \u001b[43mtrain_features\u001b[49m[\u001b[38;5;241m5\u001b[39m]\n\u001b[0;32m      5\u001b[0m \u001b[38;5;28mprint\u001b[39m(\u001b[38;5;124m'\u001b[39m\u001b[38;5;124mtamaño de 1 imagen: \u001b[39m\u001b[38;5;124m'\u001b[39m, img\u001b[38;5;241m.\u001b[39mshape)\n\u001b[0;32m      6\u001b[0m \u001b[38;5;66;03m# le QUITO 1 dimension (la del tamaño del batch) para poder graficar\u001b[39;00m\n",
            "\u001b[1;31mNameError\u001b[0m: name 'train_features' is not defined"
          ]
        }
      ],
      "source": [
        "\n",
        "# tomo 1 imagen para poder visualizarla\n",
        "# y verifico sus dimensiones\n",
        "\n",
        "img = train_features[5]\n",
        "print('tamaño de 1 imagen: ', img.shape)\n",
        "# le QUITO 1 dimension (la del tamaño del batch) para poder graficar\n",
        "img = img.squeeze()\n",
        "print('tamaño de 1 imagen DESPUES de squeeze: ', img.shape)\n",
        "label = train_labels[5]\n",
        "\n",
        "# ploteo esa imagen\n",
        "plt.imshow(img, cmap=\"gray\")\n",
        "plt.show()\n",
        "print(f\"Label: {label}\")"
      ]
    },
    {
      "cell_type": "code",
      "execution_count": null,
      "metadata": {},
      "outputs": [
        {
          "ename": "ModuleNotFoundError",
          "evalue": "No module named 'optuna'",
          "output_type": "error",
          "traceback": [
            "\u001b[1;31m---------------------------------------------------------------------------\u001b[0m",
            "\u001b[1;31mModuleNotFoundError\u001b[0m                       Traceback (most recent call last)",
            "Cell \u001b[1;32mIn[29], line 1\u001b[0m\n\u001b[1;32m----> 1\u001b[0m \u001b[38;5;28;01mimport\u001b[39;00m \u001b[38;5;21;01moptuna\u001b[39;00m\n\u001b[0;32m      3\u001b[0m \u001b[38;5;28;01mdef\u001b[39;00m \u001b[38;5;21mobjective\u001b[39m(trial):\n\u001b[0;32m      4\u001b[0m     lr \u001b[38;5;241m=\u001b[39m trial\u001b[38;5;241m.\u001b[39msuggest_loguniform(\u001b[38;5;124m'\u001b[39m\u001b[38;5;124mlr\u001b[39m\u001b[38;5;124m'\u001b[39m, \u001b[38;5;241m1e-5\u001b[39m, \u001b[38;5;241m1e-2\u001b[39m)\n",
            "\u001b[1;31mModuleNotFoundError\u001b[0m: No module named 'optuna'"
          ]
        }
      ],
      "source": []
    },
    {
      "cell_type": "code",
      "execution_count": null,
      "metadata": {},
      "outputs": [],
      "source": []
    }
  ],
  "metadata": {
    "accelerator": "GPU",
    "colab": {
      "gpuType": "T4",
      "provenance": []
    },
    "kernelspec": {
      "display_name": "Python 3",
      "name": "python3"
    },
    "language_info": {
      "codemirror_mode": {
        "name": "ipython",
        "version": 3
      },
      "file_extension": ".py",
      "mimetype": "text/x-python",
      "name": "python",
      "nbconvert_exporter": "python",
      "pygments_lexer": "ipython3",
      "version": "3.11.3"
    }
  },
  "nbformat": 4,
  "nbformat_minor": 0
}
